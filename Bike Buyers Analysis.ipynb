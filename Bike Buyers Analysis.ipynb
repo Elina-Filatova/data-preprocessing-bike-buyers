{
 "cells": [
  {
   "cell_type": "markdown",
   "metadata": {},
   "source": [
    "# Analysis of the DataSet 'Bike Buyers 1000'\n",
    "\n",
    "ESP: \"Compradores de Bicicletas\""
   ]
  },
  {
   "cell_type": "markdown",
   "metadata": {},
   "source": [
    "## Objective:\n",
    "\n",
    "Perform data preprocessing and cleaning on the selected dataset using the techniques covered in the class.\n",
    "\n"
   ]
  },
  {
   "cell_type": "markdown",
   "metadata": {},
   "source": [
    "## Dataset:\n",
    "\n",
    "This dataset has details of 1000 users from different backgrounds and whether or not they buy a bike. This data can be used for prediction models using Machine Learning Algorithms.\n",
    "\n",
    "Short overview:\n",
    "\n",
    "- ID\n",
    "- Marital Status: [Married, Single]\n",
    "- Gender: [Male, Female]\n",
    "- Income: [40000, 30000, 80000, ...]\n",
    "- Children: [0, 1, 2 ...]\n",
    "- Education: ['Bachelors', 'Partial College', ...]\n",
    "- Occupation: ['Skilled Manual', 'Clerical',...]\n",
    "- Home Owner: [yes, no]\n",
    "- Cars: [0, 1, 2 ...]\n",
    "- Commute Distance: ['0-1 Miles', '2-5 Miles', '5-10 Miles', ...]\n",
    "- Region: ['Europe', 'Pacific', 'North America']\n",
    "- Age: [42, 43, 60, 41 ... ]\n",
    "- (Target) Purchased Bike: [yes, no](target)\n",
    "\n",
    "link: https://www.kaggle.com/datasets/heeraldedhia/bike-buyers"
   ]
  },
  {
   "cell_type": "markdown",
   "metadata": {},
   "source": [
    "## Libraries:\n",
    "Libraries used throughout the project"
   ]
  },
  {
   "cell_type": "code",
   "execution_count": 1,
   "metadata": {},
   "outputs": [],
   "source": [
    "# data analysis\n",
    "import pandas as pd\n",
    "import numpy as np\n",
    "from sklearn.pipeline import Pipeline\n",
    "\n",
    "# data visualization\n",
    "import matplotlib.pyplot as plt\n",
    "import seaborn as sns\n",
    "\n",
    "# data preprocessing\n",
    "from sklearn.preprocessing import LabelEncoder, OneHotEncoder, OrdinalEncoder\n",
    "from sklearn.impute import SimpleImputer\n",
    "from sklearn.feature_selection import VarianceThreshold\n",
    "from sklearn.neighbors import LocalOutlierFactor\n",
    "from sklearn.compose import ColumnTransformer\n",
    "from sklearn.preprocessing import MinMaxScaler\n",
    "from sklearn.preprocessing import StandardScaler\n",
    "\n",
    "# feature selection\n",
    "from sklearn.feature_selection import RFE\n",
    "\n",
    "# models\n",
    "from sklearn.svm import SVC\n",
    "from sklearn.neighbors import KNeighborsClassifier\n",
    "from sklearn.ensemble import RandomForestClassifier, GradientBoostingClassifier\n",
    "from sklearn.tree import DecisionTreeClassifier\n",
    "\n",
    "# validation\n",
    "from sklearn.model_selection import train_test_split\n",
    "from sklearn.model_selection import RepeatedStratifiedKFold\n",
    "from sklearn.model_selection import cross_val_score\n",
    "\n",
    "# metrics\n",
    "from sklearn.metrics import confusion_matrix, accuracy_score, classification_report\n",
    "from numpy import mean\n",
    "from numpy import std\n",
    "from numpy import arange"
   ]
  },
  {
   "cell_type": "markdown",
   "metadata": {},
   "source": [
    "### 1. Initialisation\n",
    "#### 1.1. Recognizing the Structure of the Dataset"
   ]
  },
  {
   "cell_type": "markdown",
   "metadata": {},
   "source": [
    "Loading the data and viewing its initial entries"
   ]
  },
  {
   "cell_type": "code",
   "execution_count": 2,
   "metadata": {},
   "outputs": [
    {
     "data": {
      "text/html": [
       "<div>\n",
       "<style scoped>\n",
       "    .dataframe tbody tr th:only-of-type {\n",
       "        vertical-align: middle;\n",
       "    }\n",
       "\n",
       "    .dataframe tbody tr th {\n",
       "        vertical-align: top;\n",
       "    }\n",
       "\n",
       "    .dataframe thead th {\n",
       "        text-align: right;\n",
       "    }\n",
       "</style>\n",
       "<table border=\"1\" class=\"dataframe\">\n",
       "  <thead>\n",
       "    <tr style=\"text-align: right;\">\n",
       "      <th></th>\n",
       "      <th>ID</th>\n",
       "      <th>Marital Status</th>\n",
       "      <th>Gender</th>\n",
       "      <th>Income</th>\n",
       "      <th>Children</th>\n",
       "      <th>Education</th>\n",
       "      <th>Occupation</th>\n",
       "      <th>Home Owner</th>\n",
       "      <th>Cars</th>\n",
       "      <th>Commute Distance</th>\n",
       "      <th>Region</th>\n",
       "      <th>Age</th>\n",
       "      <th>Purchased Bike</th>\n",
       "    </tr>\n",
       "  </thead>\n",
       "  <tbody>\n",
       "    <tr>\n",
       "      <th>0</th>\n",
       "      <td>12496</td>\n",
       "      <td>Married</td>\n",
       "      <td>Female</td>\n",
       "      <td>40000.0</td>\n",
       "      <td>1.0</td>\n",
       "      <td>Bachelors</td>\n",
       "      <td>Skilled Manual</td>\n",
       "      <td>Yes</td>\n",
       "      <td>0.0</td>\n",
       "      <td>0-1 Miles</td>\n",
       "      <td>Europe</td>\n",
       "      <td>42.0</td>\n",
       "      <td>No</td>\n",
       "    </tr>\n",
       "    <tr>\n",
       "      <th>1</th>\n",
       "      <td>24107</td>\n",
       "      <td>Married</td>\n",
       "      <td>Male</td>\n",
       "      <td>30000.0</td>\n",
       "      <td>3.0</td>\n",
       "      <td>Partial College</td>\n",
       "      <td>Clerical</td>\n",
       "      <td>Yes</td>\n",
       "      <td>1.0</td>\n",
       "      <td>0-1 Miles</td>\n",
       "      <td>Europe</td>\n",
       "      <td>43.0</td>\n",
       "      <td>No</td>\n",
       "    </tr>\n",
       "    <tr>\n",
       "      <th>2</th>\n",
       "      <td>14177</td>\n",
       "      <td>Married</td>\n",
       "      <td>Male</td>\n",
       "      <td>80000.0</td>\n",
       "      <td>5.0</td>\n",
       "      <td>Partial College</td>\n",
       "      <td>Professional</td>\n",
       "      <td>No</td>\n",
       "      <td>2.0</td>\n",
       "      <td>2-5 Miles</td>\n",
       "      <td>Europe</td>\n",
       "      <td>60.0</td>\n",
       "      <td>No</td>\n",
       "    </tr>\n",
       "    <tr>\n",
       "      <th>3</th>\n",
       "      <td>24381</td>\n",
       "      <td>Single</td>\n",
       "      <td>NaN</td>\n",
       "      <td>70000.0</td>\n",
       "      <td>0.0</td>\n",
       "      <td>Bachelors</td>\n",
       "      <td>Professional</td>\n",
       "      <td>Yes</td>\n",
       "      <td>1.0</td>\n",
       "      <td>5-10 Miles</td>\n",
       "      <td>Pacific</td>\n",
       "      <td>41.0</td>\n",
       "      <td>Yes</td>\n",
       "    </tr>\n",
       "    <tr>\n",
       "      <th>4</th>\n",
       "      <td>25597</td>\n",
       "      <td>Single</td>\n",
       "      <td>Male</td>\n",
       "      <td>30000.0</td>\n",
       "      <td>0.0</td>\n",
       "      <td>Bachelors</td>\n",
       "      <td>Clerical</td>\n",
       "      <td>No</td>\n",
       "      <td>0.0</td>\n",
       "      <td>0-1 Miles</td>\n",
       "      <td>Europe</td>\n",
       "      <td>36.0</td>\n",
       "      <td>Yes</td>\n",
       "    </tr>\n",
       "  </tbody>\n",
       "</table>\n",
       "</div>"
      ],
      "text/plain": [
       "      ID Marital Status  Gender   Income  Children        Education  \\\n",
       "0  12496        Married  Female  40000.0       1.0        Bachelors   \n",
       "1  24107        Married    Male  30000.0       3.0  Partial College   \n",
       "2  14177        Married    Male  80000.0       5.0  Partial College   \n",
       "3  24381         Single     NaN  70000.0       0.0        Bachelors   \n",
       "4  25597         Single    Male  30000.0       0.0        Bachelors   \n",
       "\n",
       "       Occupation Home Owner  Cars Commute Distance   Region   Age  \\\n",
       "0  Skilled Manual        Yes   0.0        0-1 Miles   Europe  42.0   \n",
       "1        Clerical        Yes   1.0        0-1 Miles   Europe  43.0   \n",
       "2    Professional         No   2.0        2-5 Miles   Europe  60.0   \n",
       "3    Professional        Yes   1.0       5-10 Miles  Pacific  41.0   \n",
       "4        Clerical         No   0.0        0-1 Miles   Europe  36.0   \n",
       "\n",
       "  Purchased Bike  \n",
       "0             No  \n",
       "1             No  \n",
       "2             No  \n",
       "3            Yes  \n",
       "4            Yes  "
      ]
     },
     "execution_count": 2,
     "metadata": {},
     "output_type": "execute_result"
    }
   ],
   "source": [
    "df = pd.read_csv('./TRABAJO/datasets/bykes/bike_buyers.csv')\n",
    "df.head()"
   ]
  },
  {
   "cell_type": "markdown",
   "metadata": {},
   "source": [
    "The dataset's size"
   ]
  },
  {
   "cell_type": "code",
   "execution_count": 3,
   "metadata": {},
   "outputs": [
    {
     "data": {
      "text/plain": [
       "(1000, 13)"
      ]
     },
     "execution_count": 3,
     "metadata": {},
     "output_type": "execute_result"
    }
   ],
   "source": [
    "df.shape"
   ]
  },
  {
   "cell_type": "markdown",
   "metadata": {},
   "source": [
    "Loading descriptive information about the dataset"
   ]
  },
  {
   "cell_type": "code",
   "execution_count": 4,
   "metadata": {},
   "outputs": [
    {
     "name": "stdout",
     "output_type": "stream",
     "text": [
      "<class 'pandas.core.frame.DataFrame'>\n",
      "RangeIndex: 1000 entries, 0 to 999\n",
      "Data columns (total 13 columns):\n",
      " #   Column            Non-Null Count  Dtype  \n",
      "---  ------            --------------  -----  \n",
      " 0   ID                1000 non-null   int64  \n",
      " 1   Marital Status    993 non-null    object \n",
      " 2   Gender            989 non-null    object \n",
      " 3   Income            994 non-null    float64\n",
      " 4   Children          992 non-null    float64\n",
      " 5   Education         1000 non-null   object \n",
      " 6   Occupation        1000 non-null   object \n",
      " 7   Home Owner        996 non-null    object \n",
      " 8   Cars              991 non-null    float64\n",
      " 9   Commute Distance  1000 non-null   object \n",
      " 10  Region            1000 non-null   object \n",
      " 11  Age               992 non-null    float64\n",
      " 12  Purchased Bike    1000 non-null   object \n",
      "dtypes: float64(4), int64(1), object(8)\n",
      "memory usage: 101.7+ KB\n"
     ]
    }
   ],
   "source": [
    "df.info()"
   ]
  },
  {
   "cell_type": "markdown",
   "metadata": {},
   "source": [
    "- The dataset has 1000 entries and 13 columns \n",
    "- Columns with missing values: Marital Status, Gender, Income, Children, Home Owner, Cars, Age\n",
    "\n",
    "- Numerical Columns: ID, Income, Children, Cars, Age\n",
    "- Categorical Columns: Marital Status, Gender, Education, Occupation, Home Owner, Commute Distance, Region, Purchased Bike"
   ]
  },
  {
   "cell_type": "markdown",
   "metadata": {},
   "source": [
    "Statistical description of the numerical columns in the dataset\n"
   ]
  },
  {
   "cell_type": "code",
   "execution_count": 5,
   "metadata": {},
   "outputs": [
    {
     "data": {
      "text/html": [
       "<div>\n",
       "<style scoped>\n",
       "    .dataframe tbody tr th:only-of-type {\n",
       "        vertical-align: middle;\n",
       "    }\n",
       "\n",
       "    .dataframe tbody tr th {\n",
       "        vertical-align: top;\n",
       "    }\n",
       "\n",
       "    .dataframe thead th {\n",
       "        text-align: right;\n",
       "    }\n",
       "</style>\n",
       "<table border=\"1\" class=\"dataframe\">\n",
       "  <thead>\n",
       "    <tr style=\"text-align: right;\">\n",
       "      <th></th>\n",
       "      <th>ID</th>\n",
       "      <th>Income</th>\n",
       "      <th>Children</th>\n",
       "      <th>Cars</th>\n",
       "      <th>Age</th>\n",
       "    </tr>\n",
       "  </thead>\n",
       "  <tbody>\n",
       "    <tr>\n",
       "      <th>count</th>\n",
       "      <td>1000.000000</td>\n",
       "      <td>994.000000</td>\n",
       "      <td>992.000000</td>\n",
       "      <td>991.000000</td>\n",
       "      <td>992.000000</td>\n",
       "    </tr>\n",
       "    <tr>\n",
       "      <th>mean</th>\n",
       "      <td>19965.992000</td>\n",
       "      <td>56267.605634</td>\n",
       "      <td>1.910282</td>\n",
       "      <td>1.455096</td>\n",
       "      <td>44.181452</td>\n",
       "    </tr>\n",
       "    <tr>\n",
       "      <th>std</th>\n",
       "      <td>5347.333948</td>\n",
       "      <td>31067.817462</td>\n",
       "      <td>1.626910</td>\n",
       "      <td>1.121755</td>\n",
       "      <td>11.362007</td>\n",
       "    </tr>\n",
       "    <tr>\n",
       "      <th>min</th>\n",
       "      <td>11000.000000</td>\n",
       "      <td>10000.000000</td>\n",
       "      <td>0.000000</td>\n",
       "      <td>0.000000</td>\n",
       "      <td>25.000000</td>\n",
       "    </tr>\n",
       "    <tr>\n",
       "      <th>25%</th>\n",
       "      <td>15290.750000</td>\n",
       "      <td>30000.000000</td>\n",
       "      <td>0.000000</td>\n",
       "      <td>1.000000</td>\n",
       "      <td>35.000000</td>\n",
       "    </tr>\n",
       "    <tr>\n",
       "      <th>50%</th>\n",
       "      <td>19744.000000</td>\n",
       "      <td>60000.000000</td>\n",
       "      <td>2.000000</td>\n",
       "      <td>1.000000</td>\n",
       "      <td>43.000000</td>\n",
       "    </tr>\n",
       "    <tr>\n",
       "      <th>75%</th>\n",
       "      <td>24470.750000</td>\n",
       "      <td>70000.000000</td>\n",
       "      <td>3.000000</td>\n",
       "      <td>2.000000</td>\n",
       "      <td>52.000000</td>\n",
       "    </tr>\n",
       "    <tr>\n",
       "      <th>max</th>\n",
       "      <td>29447.000000</td>\n",
       "      <td>170000.000000</td>\n",
       "      <td>5.000000</td>\n",
       "      <td>4.000000</td>\n",
       "      <td>89.000000</td>\n",
       "    </tr>\n",
       "  </tbody>\n",
       "</table>\n",
       "</div>"
      ],
      "text/plain": [
       "                 ID         Income    Children        Cars         Age\n",
       "count   1000.000000     994.000000  992.000000  991.000000  992.000000\n",
       "mean   19965.992000   56267.605634    1.910282    1.455096   44.181452\n",
       "std     5347.333948   31067.817462    1.626910    1.121755   11.362007\n",
       "min    11000.000000   10000.000000    0.000000    0.000000   25.000000\n",
       "25%    15290.750000   30000.000000    0.000000    1.000000   35.000000\n",
       "50%    19744.000000   60000.000000    2.000000    1.000000   43.000000\n",
       "75%    24470.750000   70000.000000    3.000000    2.000000   52.000000\n",
       "max    29447.000000  170000.000000    5.000000    4.000000   89.000000"
      ]
     },
     "execution_count": 5,
     "metadata": {},
     "output_type": "execute_result"
    }
   ],
   "source": [
    "df.describe()"
   ]
  },
  {
   "cell_type": "markdown",
   "metadata": {},
   "source": [
    "Observing the larger standard deviation and range (min-max) values in the \"Income\" and \"Age\" columns compared to other columns, it is evident that these features have different scales. Consequently, it is advisable to consider scaling the dataset. "
   ]
  },
  {
   "cell_type": "markdown",
   "metadata": {},
   "source": [
    "Data distribution of the target column"
   ]
  },
  {
   "cell_type": "code",
   "execution_count": 6,
   "metadata": {},
   "outputs": [
    {
     "data": {
      "image/png": "[encoded data removed]",
      "text/plain": [
       "<Figure size 640x480 with 1 Axes>"
      ]
     },
     "metadata": {},
     "output_type": "display_data"
    }
   ],
   "source": [
    "df['Purchased Bike'].value_counts()\n",
    "plt.hist(df['Purchased Bike'])\n",
    "plt.show()"
   ]
  },
  {
   "cell_type": "markdown",
   "metadata": {},
   "source": [
    "The present graph illustrates a balanced distribution of 'yes' and 'no' values in the label data, suggesting a balanced target class"
   ]
  },
  {
   "cell_type": "markdown",
   "metadata": {},
   "source": [
    "#### 1.2. Outlining Potential Next Steps:\n",
    "1. Eliminate the following columns:\n",
    "\n",
    "   - ID since it lacks significance, and duplicates cannot be identified.\n",
    "   - Education; assuming it doesn't significantly impact the analysis (consider inclusion at a later stage).\n",
    "   \n",
    "\n",
    "2. Verify for duplicate entries.\n",
    "3. Examine the presence of null values.\n",
    "4. Preprocess the data for an initial assessment by implementing fundamental cleaning steps. This allows us to obtain preliminary evaluation scores for later comparison.\n",
    "5. Implement and evaluate the outcomes of alternative techniques:\n",
    "\n",
    "    - Apply VarianceThreshold.\n",
    "    - Employ LOF (Local Outlier Factor) to identify outliers.\n",
    "    - Encode categorical variables.\n",
    "    - Scale the data.\n",
    "6. Model Improvements\n",
    "\n",
    "<!-- ### Numerical data\n",
    "- Handling Missing Values \n",
    "    * Simple Imputer/Column Transformer\n",
    "    * Numerical\n",
    "- Checking for columns with low variance (not many unique values)\n",
    "- Evaluate only on numerical\n",
    "\n",
    "### Categorical data\n",
    "- Handling Missing Values for Categoricals\n",
    "- Encoder\n",
    "- Evaluate on all dataset\n",
    "\n",
    "    * VarianceThreshold + Pipeline Data Evaluation\n",
    "- Scaling data\n",
    "    * StandardScaler/ MinMax Scaler + pipeline data evaluation \n",
    "- Applying Encoding + Pipeline data evaluation\n",
    "    * OneHoteEncoder / OrdinalEncoder +  Pipeline data evaluation -->"
   ]
  },
  {
   "cell_type": "markdown",
   "metadata": {},
   "source": [
    "### 2. Data prepararion\n",
    "#### 2.1. Eliminate the columns that lack significance\n",
    "* ID\n",
    "* Education"
   ]
  },
  {
   "cell_type": "code",
   "execution_count": 7,
   "metadata": {},
   "outputs": [],
   "source": [
    "to_delete = ['ID', 'Education']\n",
    "df.drop(to_delete, inplace=True, axis=1)"
   ]
  },
  {
   "cell_type": "markdown",
   "metadata": {},
   "source": [
    "#### 2.2. Verify for duplicate entries\n"
   ]
  },
  {
   "cell_type": "code",
   "execution_count": 8,
   "metadata": {},
   "outputs": [
    {
     "name": "stdout",
     "output_type": "stream",
     "text": [
      "True\n",
      "    Marital Status  Gender   Income  Children    Occupation Home Owner  Cars  \\\n",
      "105         Single  Female  30000.0       0.0      Clerical         No   1.0   \n",
      "125        Married    Male  80000.0       5.0  Professional        Yes   4.0   \n",
      "212         Single  Female  30000.0       0.0      Clerical         No   1.0   \n",
      "219         Single    Male  10000.0       0.0        Manual        Yes   1.0   \n",
      "231        Married  Female  40000.0       0.0      Clerical        Yes   0.0   \n",
      "\n",
      "    Commute Distance   Region   Age Purchased Bike  \n",
      "105        2-5 Miles   Europe  30.0             No  \n",
      "125        1-2 Miles  Pacific  40.0             No  \n",
      "212        2-5 Miles   Europe  30.0             No  \n",
      "219        1-2 Miles  Pacific  26.0            Yes  \n",
      "231        0-1 Miles   Europe  38.0            Yes  \n"
     ]
    },
    {
     "data": {
      "text/plain": [
       "52"
      ]
     },
     "execution_count": 8,
     "metadata": {},
     "output_type": "execute_result"
    }
   ],
   "source": [
    "# Calculamos si existen duplicados\n",
    "dups = df.duplicated()\n",
    "# Se muestran si hay  duplicados\n",
    "print(dups.any())\n",
    "# Lista de las filas primeras filas duplicadas\n",
    "print(df[dups].head())\n",
    "#Numero de instancias duplicadas\n",
    "df.duplicated().sum()"
   ]
  },
  {
   "cell_type": "markdown",
   "metadata": {},
   "source": [
    "#### 2.2.1. Eliminating duplicates\n"
   ]
  },
  {
   "cell_type": "code",
   "execution_count": 9,
   "metadata": {},
   "outputs": [],
   "source": [
    "df.drop_duplicates(inplace=True)"
   ]
  },
  {
   "cell_type": "markdown",
   "metadata": {},
   "source": [
    "#### 2.3. Examine the presence of null values\n"
   ]
  },
  {
   "cell_type": "code",
   "execution_count": 10,
   "metadata": {},
   "outputs": [
    {
     "name": "stdout",
     "output_type": "stream",
     "text": [
      "we have 7 columns with null values overall having 53 missing values\n"
     ]
    }
   ],
   "source": [
    "# columns with missing values\n",
    "df.isnull().sum()[df.isnull().sum()>0]\n",
    "print(f'we have {df.isnull().sum()[df.isnull().sum()>0].count()} columns with null values overall having {df.isnull().sum()[df.isnull().sum()>0].sum()} missing values')\n"
   ]
  },
  {
   "cell_type": "markdown",
   "metadata": {},
   "source": [
    "#### 2.3.1. Eliminating rows with null values\n"
   ]
  },
  {
   "cell_type": "code",
   "execution_count": 11,
   "metadata": {},
   "outputs": [],
   "source": [
    "null_rows_ind = df[df.isnull().any(axis=1)].index\n",
    "df.drop(null_rows_ind, inplace=True)\n",
    "df.reset_index(drop=True, inplace=True)"
   ]
  },
  {
   "cell_type": "code",
   "execution_count": 12,
   "metadata": {},
   "outputs": [
    {
     "name": "stdout",
     "output_type": "stream",
     "text": [
      "<class 'pandas.core.frame.DataFrame'>\n",
      "RangeIndex: 900 entries, 0 to 899\n",
      "Data columns (total 11 columns):\n",
      " #   Column            Non-Null Count  Dtype  \n",
      "---  ------            --------------  -----  \n",
      " 0   Marital Status    900 non-null    object \n",
      " 1   Gender            900 non-null    object \n",
      " 2   Income            900 non-null    float64\n",
      " 3   Children          900 non-null    float64\n",
      " 4   Occupation        900 non-null    object \n",
      " 5   Home Owner        900 non-null    object \n",
      " 6   Cars              900 non-null    float64\n",
      " 7   Commute Distance  900 non-null    object \n",
      " 8   Region            900 non-null    object \n",
      " 9   Age               900 non-null    float64\n",
      " 10  Purchased Bike    900 non-null    object \n",
      "dtypes: float64(4), object(7)\n",
      "memory usage: 77.5+ KB\n"
     ]
    }
   ],
   "source": [
    "df.info()"
   ]
  },
  {
   "cell_type": "markdown",
   "metadata": {},
   "source": [
    "The dataset size has been decreased by 10%."
   ]
  },
  {
   "cell_type": "markdown",
   "metadata": {},
   "source": [
    "Ensuring that the label remains balanced after decreasing the data set"
   ]
  },
  {
   "cell_type": "code",
   "execution_count": 13,
   "metadata": {},
   "outputs": [
    {
     "data": {
      "image/png": "[encoded data removed]",
      "text/plain": [
       "<Figure size 640x480 with 1 Axes>"
      ]
     },
     "metadata": {},
     "output_type": "display_data"
    }
   ],
   "source": [
    "plt.hist(df['Purchased Bike'])\n",
    "plt.show()"
   ]
  },
  {
   "cell_type": "markdown",
   "metadata": {},
   "source": [
    "Specifying the types of columns"
   ]
  },
  {
   "cell_type": "code",
   "execution_count": 14,
   "metadata": {},
   "outputs": [],
   "source": [
    "# getting all the columns\n",
    "sorted_cols = df.columns\n",
    "\n",
    "# getting all the numeric columns\n",
    "numeric_cols = df.select_dtypes(include=['float64']).columns\n",
    "\n",
    "# getting all the categorical columns\n",
    "categorical_cols = df.select_dtypes(include=['object']).columns\n",
    "\n",
    "feature_cols = df.columns[:-1]\n",
    "\n",
    "# getting the label column\n",
    "label_col = ['Purchased Bike']\n",
    "\n",
    "categorical_cols = categorical_cols.drop(label_col)"
   ]
  },
  {
   "cell_type": "markdown",
   "metadata": {},
   "source": [
    "Encoding the label column"
   ]
  },
  {
   "cell_type": "code",
   "execution_count": 15,
   "metadata": {},
   "outputs": [
    {
     "name": "stderr",
     "output_type": "stream",
     "text": [
      "c:\\Users\\elinf\\anaconda3\\envs\\uni\\lib\\site-packages\\sklearn\\preprocessing\\_label.py:114: DataConversionWarning: A column-vector y was passed when a 1d array was expected. Please change the shape of y to (n_samples, ), for example using ravel().\n",
      "  y = column_or_1d(y, warn=True)\n"
     ]
    }
   ],
   "source": [
    "label_encoder = LabelEncoder()  \n",
    "df['Purchased Bike'] = label_encoder.fit_transform(df[label_col])"
   ]
  },
  {
   "cell_type": "markdown",
   "metadata": {},
   "source": [
    "### 3. Initial Evaluation - Assessing the Data Post Basic Preprocessing for Preliminary Scoring"
   ]
  },
  {
   "cell_type": "markdown",
   "metadata": {},
   "source": [
    "3.1. Establishment of the Evaluation Function"
   ]
  },
  {
   "cell_type": "code",
   "execution_count": 16,
   "metadata": {},
   "outputs": [],
   "source": [
    "def evaluate(model, X, y, metrics='accuracy'):\n",
    "    score = cross_val_score(model, \n",
    "                            X, y,\n",
    "                            scoring=metrics, cv=RepeatedStratifiedKFold(n_splits=10, n_repeats=10, random_state=1),\n",
    "                            n_jobs=-1)\n",
    "    score_mean = mean(score)\n",
    "    score_std = std(score)\n",
    "    print('Accuracy: %.3f (%.3f)' % (score_mean, score_std))"
   ]
  },
  {
   "cell_type": "markdown",
   "metadata": {},
   "source": [
    "Results of the Evaluation Using the RandomForestClassifier Model"
   ]
  },
  {
   "cell_type": "code",
   "execution_count": 17,
   "metadata": {},
   "outputs": [
    {
     "name": "stdout",
     "output_type": "stream",
     "text": [
      "Accuracy: 0.644 (0.048)\n"
     ]
    }
   ],
   "source": [
    "model = RandomForestClassifier(random_state=1)\n",
    "evaluate(model, df[numeric_cols], df[label_col])"
   ]
  },
  {
   "cell_type": "markdown",
   "metadata": {},
   "source": [
    "After the initial approximation on numerical values, we've reached an accuracy of 64%. The following steps were implemented:\n",
    "\n",
    "1. Dropping columns with no significant impact (ID, Education).\n",
    "2. Eliminating duplicate entries.\n",
    "3. Handling null values.\n",
    "4. Utilizing label encoding.\n",
    "\n",
    "Moving forward, our focus is on further enhancing the dataset by applying the data preprocessing steps outlined at the beginning.\n",
    "\n",
    "\n"
   ]
  },
  {
   "cell_type": "markdown",
   "metadata": {},
   "source": [
    "### 4. Implement and evaluate the outcomes of alternative techniques:\n",
    "    - Apply VarianceThreshold.\n",
    "    - Employ LOF (Local Outlier Factor) to identify outliers.\n",
    "    - Encode categorical variables.\n",
    "    - Scale the data."
   ]
  },
  {
   "cell_type": "markdown",
   "metadata": {},
   "source": [
    "#### 4.1. Low Variance using VarianceThreshold"
   ]
  },
  {
   "cell_type": "code",
   "execution_count": 18,
   "metadata": {},
   "outputs": [
    {
     "name": "stdout",
     "output_type": "stream",
     "text": [
      "(900, 4) (900, 1)\n",
      ">Threshold = 0.0 \t Features = 4\n",
      ">Threshold = 0.05 \t Features = 4\n",
      ">Threshold = 0.1 \t Features = 4\n",
      ">Threshold = 0.15 \t Features = 4\n",
      ">Threshold = 0.2 \t Features = 4\n",
      ">Threshold = 0.25 \t Features = 4\n",
      ">Threshold = 0.3 \t Features = 4\n",
      ">Threshold = 0.35 \t Features = 4\n",
      ">Threshold = 0.4 \t Features = 4\n",
      ">Threshold = 0.45 \t Features = 4\n",
      ">Threshold = 0.5 \t Features = 4\n"
     ]
    }
   ],
   "source": [
    "X = df[numeric_cols]\n",
    "y = df[label_col]\n",
    "print(X.shape, y.shape)\n",
    "# define thresholds to check\n",
    "thresholds = arange(0.0, 0.55, 0.05)\n",
    "# apply transform with each threshold\n",
    "results = []\n",
    "for threshold in thresholds:\n",
    "    # define the transform\n",
    "    transform = VarianceThreshold(threshold=threshold)\n",
    "    # transform the input data\n",
    "    X_sel = transform.fit_transform(X)\n",
    "    # determine the number of input features\n",
    "    n_features = X_sel.shape[1]\n",
    "    print(f'>Threshold = {threshold:.2} \\t Features = {n_features}')\n",
    "    # store the result\n",
    "    results.append(n_features)\n"
   ]
  },
  {
   "cell_type": "markdown",
   "metadata": {},
   "source": [
    "The analysis results show that there are no columns in the numerical data with a variance of less than 0.50. This means that each column has sufficient quantity of unique values to proceed with the further analysis."
   ]
  },
  {
   "cell_type": "markdown",
   "metadata": {},
   "source": [
    "#### 4.2. Applying LOF (Local Outlier Factor) to identify outliers"
   ]
  },
  {
   "cell_type": "markdown",
   "metadata": {},
   "source": [
    "Showing pairplot to detect possible outliers."
   ]
  },
  {
   "cell_type": "code",
   "execution_count": 19,
   "metadata": {},
   "outputs": [
    {
     "data": {
      "text/plain": [
       "<seaborn.axisgrid.PairGrid at 0x106ab10d3c0>"
      ]
     },
     "execution_count": 19,
     "metadata": {},
     "output_type": "execute_result"
    },
    {
     "data": {
      "image/png": "[encoded data removed]",
      "text/plain": [
       "<Figure size 1000x1000 with 20 Axes>"
      ]
     },
     "metadata": {},
     "output_type": "display_data"
    }
   ],
   "source": [
    "sns.pairplot(df[numeric_cols])"
   ]
  },
  {
   "cell_type": "markdown",
   "metadata": {},
   "source": [
    "It is reasonable to assume that potential outliers may arise from high values in the 'Income' column and values exceeding 80 in the 'Age' column. Subsequently, let's generate individual boxplots for the specified 'Age' and 'Income' columns, highlighting possible outliers."
   ]
  },
  {
   "cell_type": "code",
   "execution_count": 20,
   "metadata": {},
   "outputs": [
    {
     "data": {
      "text/plain": [
       "{'whiskers': [<matplotlib.lines.Line2D at 0x106ad570e50>,\n",
       "  <matplotlib.lines.Line2D at 0x106ad3ae320>],\n",
       " 'caps': [<matplotlib.lines.Line2D at 0x106ad41e8c0>,\n",
       "  <matplotlib.lines.Line2D at 0x106ad46e650>],\n",
       " 'boxes': [<matplotlib.lines.Line2D at 0x106ad570bb0>],\n",
       " 'medians': [<matplotlib.lines.Line2D at 0x106ad4909d0>],\n",
       " 'fliers': [<matplotlib.lines.Line2D at 0x106ad4906a0>],\n",
       " 'means': []}"
      ]
     },
     "execution_count": 20,
     "metadata": {},
     "output_type": "execute_result"
    },
    {
     "data": {
      "image/png": "[encoded data removed]",
      "text/plain": [
       "<Figure size 640x480 with 1 Axes>"
      ]
     },
     "metadata": {},
     "output_type": "display_data"
    }
   ],
   "source": [
    "plt.boxplot(df['Age'], vert=False)"
   ]
  },
  {
   "cell_type": "code",
   "execution_count": 21,
   "metadata": {},
   "outputs": [
    {
     "data": {
      "text/plain": [
       "{'whiskers': [<matplotlib.lines.Line2D at 0x106adab7730>,\n",
       "  <matplotlib.lines.Line2D at 0x106adab79d0>],\n",
       " 'caps': [<matplotlib.lines.Line2D at 0x106adab7c70>,\n",
       "  <matplotlib.lines.Line2D at 0x106adab7f10>],\n",
       " 'boxes': [<matplotlib.lines.Line2D at 0x106adab7490>],\n",
       " 'medians': [<matplotlib.lines.Line2D at 0x106adae81f0>],\n",
       " 'fliers': [<matplotlib.lines.Line2D at 0x106adae8490>],\n",
       " 'means': []}"
      ]
     },
     "execution_count": 21,
     "metadata": {},
     "output_type": "execute_result"
    },
    {
     "data": {
      "image/png": "[encoded data removed]",
      "text/plain": [
       "<Figure size 640x480 with 1 Axes>"
      ]
     },
     "metadata": {},
     "output_type": "display_data"
    }
   ],
   "source": [
    "plt.boxplot(df['Income'], vert=False)"
   ]
  },
  {
   "cell_type": "code",
   "execution_count": 22,
   "metadata": {},
   "outputs": [
    {
     "name": "stdout",
     "output_type": "stream",
     "text": [
      "Before: (900, 11)\n",
      "After: (829, 11)\n"
     ]
    }
   ],
   "source": [
    "print('Before:', df.shape)\n",
    "lof = LocalOutlierFactor()\n",
    "outliers = lof.fit_predict(df[numeric_cols])\n",
    "mask = outliers != -1\n",
    "df = df[mask]\n",
    "print('After:', df.shape)"
   ]
  },
  {
   "cell_type": "code",
   "execution_count": 23,
   "metadata": {},
   "outputs": [
    {
     "data": {
      "text/html": [
       "<div>\n",
       "<style scoped>\n",
       "    .dataframe tbody tr th:only-of-type {\n",
       "        vertical-align: middle;\n",
       "    }\n",
       "\n",
       "    .dataframe tbody tr th {\n",
       "        vertical-align: top;\n",
       "    }\n",
       "\n",
       "    .dataframe thead th {\n",
       "        text-align: right;\n",
       "    }\n",
       "</style>\n",
       "<table border=\"1\" class=\"dataframe\">\n",
       "  <thead>\n",
       "    <tr style=\"text-align: right;\">\n",
       "      <th></th>\n",
       "      <th>Income</th>\n",
       "      <th>Children</th>\n",
       "      <th>Cars</th>\n",
       "      <th>Age</th>\n",
       "      <th>Purchased Bike</th>\n",
       "    </tr>\n",
       "  </thead>\n",
       "  <tbody>\n",
       "    <tr>\n",
       "      <th>count</th>\n",
       "      <td>829.000000</td>\n",
       "      <td>829.000000</td>\n",
       "      <td>829.000000</td>\n",
       "      <td>829.000000</td>\n",
       "      <td>829.000000</td>\n",
       "    </tr>\n",
       "    <tr>\n",
       "      <th>mean</th>\n",
       "      <td>53196.622437</td>\n",
       "      <td>1.870929</td>\n",
       "      <td>1.357057</td>\n",
       "      <td>43.539204</td>\n",
       "      <td>0.481303</td>\n",
       "    </tr>\n",
       "    <tr>\n",
       "      <th>std</th>\n",
       "      <td>27754.726075</td>\n",
       "      <td>1.617085</td>\n",
       "      <td>1.059983</td>\n",
       "      <td>10.703287</td>\n",
       "      <td>0.499952</td>\n",
       "    </tr>\n",
       "    <tr>\n",
       "      <th>min</th>\n",
       "      <td>10000.000000</td>\n",
       "      <td>0.000000</td>\n",
       "      <td>0.000000</td>\n",
       "      <td>25.000000</td>\n",
       "      <td>0.000000</td>\n",
       "    </tr>\n",
       "    <tr>\n",
       "      <th>25%</th>\n",
       "      <td>30000.000000</td>\n",
       "      <td>0.000000</td>\n",
       "      <td>0.000000</td>\n",
       "      <td>35.000000</td>\n",
       "      <td>0.000000</td>\n",
       "    </tr>\n",
       "    <tr>\n",
       "      <th>50%</th>\n",
       "      <td>60000.000000</td>\n",
       "      <td>2.000000</td>\n",
       "      <td>1.000000</td>\n",
       "      <td>43.000000</td>\n",
       "      <td>0.000000</td>\n",
       "    </tr>\n",
       "    <tr>\n",
       "      <th>75%</th>\n",
       "      <td>70000.000000</td>\n",
       "      <td>3.000000</td>\n",
       "      <td>2.000000</td>\n",
       "      <td>51.000000</td>\n",
       "      <td>1.000000</td>\n",
       "    </tr>\n",
       "    <tr>\n",
       "      <th>max</th>\n",
       "      <td>130000.000000</td>\n",
       "      <td>5.000000</td>\n",
       "      <td>4.000000</td>\n",
       "      <td>73.000000</td>\n",
       "      <td>1.000000</td>\n",
       "    </tr>\n",
       "  </tbody>\n",
       "</table>\n",
       "</div>"
      ],
      "text/plain": [
       "              Income    Children        Cars         Age  Purchased Bike\n",
       "count     829.000000  829.000000  829.000000  829.000000      829.000000\n",
       "mean    53196.622437    1.870929    1.357057   43.539204        0.481303\n",
       "std     27754.726075    1.617085    1.059983   10.703287        0.499952\n",
       "min     10000.000000    0.000000    0.000000   25.000000        0.000000\n",
       "25%     30000.000000    0.000000    0.000000   35.000000        0.000000\n",
       "50%     60000.000000    2.000000    1.000000   43.000000        0.000000\n",
       "75%     70000.000000    3.000000    2.000000   51.000000        1.000000\n",
       "max    130000.000000    5.000000    4.000000   73.000000        1.000000"
      ]
     },
     "execution_count": 23,
     "metadata": {},
     "output_type": "execute_result"
    }
   ],
   "source": [
    "df.describe()"
   ]
  },
  {
   "cell_type": "markdown",
   "metadata": {},
   "source": [
    "The dataset's size has been reduced through the elimination of outliers. Additionally, it is noteworthy that the maximum value in the 'Age' column is no longer 89, as it was excluded as an outlier. Furthermore, the maximum value in the 'Income' column has become from 170.000 to 130.000."
   ]
  },
  {
   "cell_type": "code",
   "execution_count": 24,
   "metadata": {},
   "outputs": [
    {
     "name": "stdout",
     "output_type": "stream",
     "text": [
      "Accuracy: 0.646 (0.053)\n"
     ]
    }
   ],
   "source": [
    "model = RandomForestClassifier(random_state=1)\n",
    "evaluate(model, df[numeric_cols], df[label_col])"
   ]
  },
  {
   "cell_type": "markdown",
   "metadata": {},
   "source": [
    "Given that the removal of outliers resulted in an improved accuracy from 64.4% to 64.6%, we may choose to retain the dataset without outliers for the time being and later compare the results with outliers."
   ]
  },
  {
   "cell_type": "markdown",
   "metadata": {},
   "source": [
    "#### 4.3. Encode categorical variables"
   ]
  },
  {
   "cell_type": "code",
   "execution_count": 25,
   "metadata": {},
   "outputs": [
    {
     "data": {
      "text/html": [
       "<div>\n",
       "<style scoped>\n",
       "    .dataframe tbody tr th:only-of-type {\n",
       "        vertical-align: middle;\n",
       "    }\n",
       "\n",
       "    .dataframe tbody tr th {\n",
       "        vertical-align: top;\n",
       "    }\n",
       "\n",
       "    .dataframe thead th {\n",
       "        text-align: right;\n",
       "    }\n",
       "</style>\n",
       "<table border=\"1\" class=\"dataframe\">\n",
       "  <thead>\n",
       "    <tr style=\"text-align: right;\">\n",
       "      <th></th>\n",
       "      <th>Marital Status</th>\n",
       "      <th>Gender</th>\n",
       "      <th>Occupation</th>\n",
       "      <th>Home Owner</th>\n",
       "      <th>Commute Distance</th>\n",
       "      <th>Region</th>\n",
       "    </tr>\n",
       "  </thead>\n",
       "  <tbody>\n",
       "    <tr>\n",
       "      <th>0</th>\n",
       "      <td>Married</td>\n",
       "      <td>Female</td>\n",
       "      <td>Skilled Manual</td>\n",
       "      <td>Yes</td>\n",
       "      <td>0-1 Miles</td>\n",
       "      <td>Europe</td>\n",
       "    </tr>\n",
       "    <tr>\n",
       "      <th>1</th>\n",
       "      <td>Married</td>\n",
       "      <td>Male</td>\n",
       "      <td>Clerical</td>\n",
       "      <td>Yes</td>\n",
       "      <td>0-1 Miles</td>\n",
       "      <td>Europe</td>\n",
       "    </tr>\n",
       "    <tr>\n",
       "      <th>2</th>\n",
       "      <td>Married</td>\n",
       "      <td>Male</td>\n",
       "      <td>Professional</td>\n",
       "      <td>No</td>\n",
       "      <td>2-5 Miles</td>\n",
       "      <td>Europe</td>\n",
       "    </tr>\n",
       "    <tr>\n",
       "      <th>3</th>\n",
       "      <td>Single</td>\n",
       "      <td>Male</td>\n",
       "      <td>Clerical</td>\n",
       "      <td>No</td>\n",
       "      <td>0-1 Miles</td>\n",
       "      <td>Europe</td>\n",
       "    </tr>\n",
       "    <tr>\n",
       "      <th>4</th>\n",
       "      <td>Married</td>\n",
       "      <td>Female</td>\n",
       "      <td>Manual</td>\n",
       "      <td>Yes</td>\n",
       "      <td>1-2 Miles</td>\n",
       "      <td>Europe</td>\n",
       "    </tr>\n",
       "    <tr>\n",
       "      <th>...</th>\n",
       "      <td>...</td>\n",
       "      <td>...</td>\n",
       "      <td>...</td>\n",
       "      <td>...</td>\n",
       "      <td>...</td>\n",
       "      <td>...</td>\n",
       "    </tr>\n",
       "    <tr>\n",
       "      <th>895</th>\n",
       "      <td>Married</td>\n",
       "      <td>Male</td>\n",
       "      <td>Professional</td>\n",
       "      <td>Yes</td>\n",
       "      <td>1-2 Miles</td>\n",
       "      <td>North America</td>\n",
       "    </tr>\n",
       "    <tr>\n",
       "      <th>896</th>\n",
       "      <td>Married</td>\n",
       "      <td>Male</td>\n",
       "      <td>Professional</td>\n",
       "      <td>Yes</td>\n",
       "      <td>2-5 Miles</td>\n",
       "      <td>North America</td>\n",
       "    </tr>\n",
       "    <tr>\n",
       "      <th>897</th>\n",
       "      <td>Single</td>\n",
       "      <td>Male</td>\n",
       "      <td>Professional</td>\n",
       "      <td>Yes</td>\n",
       "      <td>2-5 Miles</td>\n",
       "      <td>North America</td>\n",
       "    </tr>\n",
       "    <tr>\n",
       "      <th>898</th>\n",
       "      <td>Single</td>\n",
       "      <td>Male</td>\n",
       "      <td>Management</td>\n",
       "      <td>No</td>\n",
       "      <td>1-2 Miles</td>\n",
       "      <td>North America</td>\n",
       "    </tr>\n",
       "    <tr>\n",
       "      <th>899</th>\n",
       "      <td>Single</td>\n",
       "      <td>Male</td>\n",
       "      <td>Professional</td>\n",
       "      <td>Yes</td>\n",
       "      <td>10+ Miles</td>\n",
       "      <td>North America</td>\n",
       "    </tr>\n",
       "  </tbody>\n",
       "</table>\n",
       "<p>829 rows × 6 columns</p>\n",
       "</div>"
      ],
      "text/plain": [
       "    Marital Status  Gender      Occupation Home Owner Commute Distance  \\\n",
       "0          Married  Female  Skilled Manual        Yes        0-1 Miles   \n",
       "1          Married    Male        Clerical        Yes        0-1 Miles   \n",
       "2          Married    Male    Professional         No        2-5 Miles   \n",
       "3           Single    Male        Clerical         No        0-1 Miles   \n",
       "4          Married  Female          Manual        Yes        1-2 Miles   \n",
       "..             ...     ...             ...        ...              ...   \n",
       "895        Married    Male    Professional        Yes        1-2 Miles   \n",
       "896        Married    Male    Professional        Yes        2-5 Miles   \n",
       "897         Single    Male    Professional        Yes        2-5 Miles   \n",
       "898         Single    Male      Management         No        1-2 Miles   \n",
       "899         Single    Male    Professional        Yes        10+ Miles   \n",
       "\n",
       "            Region  \n",
       "0           Europe  \n",
       "1           Europe  \n",
       "2           Europe  \n",
       "3           Europe  \n",
       "4           Europe  \n",
       "..             ...  \n",
       "895  North America  \n",
       "896  North America  \n",
       "897  North America  \n",
       "898  North America  \n",
       "899  North America  \n",
       "\n",
       "[829 rows x 6 columns]"
      ]
     },
     "execution_count": 25,
     "metadata": {},
     "output_type": "execute_result"
    }
   ],
   "source": [
    "df[categorical_cols]"
   ]
  },
  {
   "cell_type": "markdown",
   "metadata": {},
   "source": [
    "Categorical columns will be applied OneHotEncoder and OrdinalEncoder:\n",
    "\n",
    "**Ordinal Encoder:**\n",
    "\n",
    "- Commute Distance: \n",
    "\n",
    "    It is suitable for applying an ordinal encoder as it allows us to estimate the distance between values.\n",
    "\n",
    "Applying OrdinalEncoder to the following columns due to having only 2 unique values:\n",
    "- Marital Status\n",
    "- Gender\n",
    "- Home Owner\n",
    "\n",
    "**OneHotEncoder:**\n",
    "\n",
    "- Occupation\n",
    "- Region"
   ]
  },
  {
   "cell_type": "markdown",
   "metadata": {},
   "source": [
    "Creating pipeline and evaluating the model "
   ]
  },
  {
   "cell_type": "code",
   "execution_count": 26,
   "metadata": {},
   "outputs": [
    {
     "name": "stdout",
     "output_type": "stream",
     "text": [
      "Accuracy: 0.684 (0.041)\n"
     ]
    }
   ],
   "source": [
    "encoder = ColumnTransformer(\n",
    "    [\n",
    "        ('OneHotEnc', OneHotEncoder(drop='first'), ['Occupation', 'Region']),\n",
    "        ('OrdinalEncoder', OrdinalEncoder(), ['Commute Distance', 'Marital Status', 'Gender', 'Home Owner'])\n",
    "    ],\n",
    "    remainder = \"passthrough\",\n",
    ")\n",
    "\n",
    "pipeline = Pipeline(\n",
    "    [\n",
    "        ('encoder', encoder),\n",
    "        ('model', RandomForestClassifier(random_state=1))\n",
    "    ]\n",
    "    \n",
    ")\n",
    "evaluate(pipeline, df[feature_cols], df[label_col])"
   ]
  },
  {
   "cell_type": "markdown",
   "metadata": {},
   "source": [
    "Following the application of encoding techniques, the accuracy obtained a 3.8% improvement, increasing from 0.646 to 0.684."
   ]
  },
  {
   "cell_type": "markdown",
   "metadata": {},
   "source": [
    "#### 4.5. Scaling the data"
   ]
  },
  {
   "cell_type": "code",
   "execution_count": 27,
   "metadata": {},
   "outputs": [
    {
     "name": "stdout",
     "output_type": "stream",
     "text": [
      "Accuracy: 0.684 (0.042)\n"
     ]
    }
   ],
   "source": [
    "encoder = ColumnTransformer(\n",
    "    [\n",
    "        ('OneHotEnc', OneHotEncoder(drop='first'), ['Occupation', 'Region']),\n",
    "        ('OrdinalEncoder', OrdinalEncoder(), ['Commute Distance', 'Marital Status', 'Gender', 'Home Owner'])\n",
    "    ],\n",
    "    remainder = MinMaxScaler()\n",
    ")\n",
    "\n",
    "pipeline = Pipeline(\n",
    "    [\n",
    "        ('encoder', encoder),\n",
    "        ('model', RandomForestClassifier(random_state=1))\n",
    "    ]\n",
    "    \n",
    ")\n",
    "evaluate(pipeline, df[feature_cols], df[label_col])"
   ]
  },
  {
   "cell_type": "markdown",
   "metadata": {},
   "source": [
    "The utilization of scaling techniques did not show any significant impact on the scoring results."
   ]
  },
  {
   "cell_type": "markdown",
   "metadata": {},
   "source": [
    "Comparing the scoring results by applying the StandardScaler"
   ]
  },
  {
   "cell_type": "code",
   "execution_count": 28,
   "metadata": {},
   "outputs": [
    {
     "name": "stdout",
     "output_type": "stream",
     "text": [
      "Accuracy: 0.685 (0.043)\n"
     ]
    }
   ],
   "source": [
    "encoder = ColumnTransformer(\n",
    "    [\n",
    "        ('OneHotEnc', OneHotEncoder(drop='first'), ['Occupation', 'Region']),\n",
    "        ('OrdinalEncoder', OrdinalEncoder(), ['Commute Distance', 'Marital Status', 'Gender', 'Home Owner'])\n",
    "    ],\n",
    "    remainder = StandardScaler()\n",
    ")\n",
    "\n",
    "pipeline = Pipeline(\n",
    "    [\n",
    "        ('encoder', encoder),\n",
    "        ('model', RandomForestClassifier(random_state=1))\n",
    "    ]\n",
    "    \n",
    ")\n",
    "evaluate(pipeline, df[feature_cols], df[label_col])"
   ]
  },
  {
   "cell_type": "markdown",
   "metadata": {},
   "source": [
    "#### 4.6 Scaling categorical data\n",
    "Given that we have encoded categorical data, it may be beneficial to consider scaling them as well."
   ]
  },
  {
   "cell_type": "code",
   "execution_count": 29,
   "metadata": {},
   "outputs": [
    {
     "name": "stdout",
     "output_type": "stream",
     "text": [
      "Accuracy: 0.684 (0.042)\n"
     ]
    }
   ],
   "source": [
    "ordinal_enc_scaler = Pipeline(\n",
    "    [\n",
    "        ('OrdinalEncoder', OrdinalEncoder()),\n",
    "        ('MinMaxScaler', MinMaxScaler())\n",
    "    ]\n",
    ")\n",
    "encoder = ColumnTransformer(\n",
    "    [\n",
    "        ('OneHotEnc', OneHotEncoder(drop='first'), ['Occupation', 'Region']),\n",
    "        ('ordinal_enc_scaler', ordinal_enc_scaler, ['Commute Distance', 'Marital Status', 'Gender', 'Home Owner'])\n",
    "    ],\n",
    "    remainder = MinMaxScaler()\n",
    ")\n",
    "\n",
    "pipeline = Pipeline(\n",
    "    [\n",
    "        ('encoder', encoder),\n",
    "        ('model', RandomForestClassifier(random_state=1))\n",
    "    ]\n",
    "    \n",
    ")\n",
    "evaluate(pipeline, df[feature_cols], df[label_col])"
   ]
  },
  {
   "cell_type": "markdown",
   "metadata": {},
   "source": [
    "#### 4.6 Feature Selection by applying Recursive Feature Elimination (RFE) \n",
    "Select the top 75% of features based on their importance"
   ]
  },
  {
   "cell_type": "code",
   "execution_count": 30,
   "metadata": {},
   "outputs": [
    {
     "name": "stdout",
     "output_type": "stream",
     "text": [
      "Accuracy: 0.690 (0.043)\n"
     ]
    }
   ],
   "source": [
    "ordinal_enc_scaler = Pipeline(\n",
    "    [\n",
    "        ('OrdinalEncoder', OrdinalEncoder()),\n",
    "        ('MinMaxScaler', MinMaxScaler())\n",
    "    ]\n",
    ")\n",
    "encoder = ColumnTransformer(\n",
    "    [\n",
    "        ('OneHotEnc', OneHotEncoder(drop='first'), ['Occupation', 'Region']),\n",
    "        ('ordinal_enc_scaler', ordinal_enc_scaler, ['Commute Distance', 'Marital Status', 'Gender', 'Home Owner'])\n",
    "    ],\n",
    "    remainder = MinMaxScaler()\n",
    ")\n",
    "\n",
    "pipeline = Pipeline(\n",
    "    [\n",
    "        ('encoder', encoder),\n",
    "        ('RFE', RFE(estimator=RandomForestClassifier(random_state=1), n_features_to_select=0.75)),\n",
    "        ('model', RandomForestClassifier(random_state=1))\n",
    "    ]\n",
    "    \n",
    ")\n",
    "evaluate(pipeline, df[feature_cols], df[label_col])"
   ]
  },
  {
   "cell_type": "markdown",
   "metadata": {},
   "source": [
    "Following the application of RFE, the accuracy obtained a slight improvement, increasing from 0.684 to 0.690. \n",
    "\n",
    "\n",
    "The observed low accuracy can be attributed to the initial reduction of the dataset by 10 -15%, which resulted in insufficient data for effective model training. To address this issue, I propose implementing Imputer techniques. The solution involves creating a pipeline that prioritizes the application of Imputer followed by the remaining techniques to improve overall model performance."
   ]
  },
  {
   "cell_type": "markdown",
   "metadata": {},
   "source": [
    "#### 5. Model Improvement"
   ]
  },
  {
   "cell_type": "code",
   "execution_count": 31,
   "metadata": {},
   "outputs": [],
   "source": [
    "# data analysis\n",
    "import pandas as pd\n",
    "import numpy as np\n",
    "from sklearn.pipeline import Pipeline\n",
    "\n",
    "# data visualization\n",
    "import matplotlib.pyplot as plt\n",
    "import seaborn as sns\n",
    "\n",
    "# data preprocessing\n",
    "from sklearn.preprocessing import LabelEncoder, OneHotEncoder, OrdinalEncoder\n",
    "from sklearn.impute import SimpleImputer, KNNImputer\n",
    "from sklearn.feature_selection import VarianceThreshold\n",
    "from sklearn.neighbors import LocalOutlierFactor\n",
    "from sklearn.compose import ColumnTransformer\n",
    "from sklearn.preprocessing import MinMaxScaler\n",
    "from sklearn.preprocessing import StandardScaler\n",
    "\n",
    "# feature selection\n",
    "from sklearn.feature_selection import RFE\n",
    "\n",
    "# models\n",
    "from sklearn.svm import SVC\n",
    "from sklearn.neighbors import KNeighborsClassifier\n",
    "from sklearn.ensemble import RandomForestClassifier, GradientBoostingClassifier\n",
    "from sklearn.tree import DecisionTreeClassifier\n",
    "\n",
    "# validation\n",
    "from sklearn.model_selection import train_test_split\n",
    "from sklearn.model_selection import RepeatedStratifiedKFold\n",
    "from sklearn.model_selection import cross_val_score\n",
    "\n",
    "# metrics\n",
    "from sklearn.metrics import confusion_matrix, accuracy_score, classification_report\n",
    "from numpy import mean\n",
    "from numpy import std\n",
    "from numpy import arange"
   ]
  },
  {
   "cell_type": "code",
   "execution_count": 32,
   "metadata": {},
   "outputs": [
    {
     "name": "stderr",
     "output_type": "stream",
     "text": [
      "c:\\Users\\elinf\\anaconda3\\envs\\uni\\lib\\site-packages\\sklearn\\preprocessing\\_label.py:114: DataConversionWarning: A column-vector y was passed when a 1d array was expected. Please change the shape of y to (n_samples, ), for example using ravel().\n",
      "  y = column_or_1d(y, warn=True)\n"
     ]
    }
   ],
   "source": [
    "df = pd.read_csv('./TRABAJO/datasets/bykes/bike_buyers.csv', na_values='?')\n",
    "to_delete = ['ID', 'Education']\n",
    "df.drop(to_delete, inplace=True, axis=1)\n",
    "dups = df.duplicated()\n",
    "df.duplicated().sum()\n",
    "df.drop_duplicates(inplace=True)\n",
    "df.reset_index(drop=True, inplace=True)\n",
    "label_encoder = LabelEncoder()\n",
    "df['Purchased Bike'] = label_encoder.fit_transform(df[label_col])\n",
    "\n",
    "sorted_cols = df.columns\n",
    "# getting all the numeric columns\n",
    "numeric_cols = df.select_dtypes(include=['float64']).columns\n",
    "\n",
    "# getting all the categorical columns\n",
    "categorical_cols = df.select_dtypes(include=['object']).columns\n",
    "# categorical_cols.delete(-1)\n",
    "feature_cols = df.columns[:-1]\n",
    "\n",
    "# getting the label column\n",
    "label_col = ['Purchased Bike']"
   ]
  },
  {
   "cell_type": "markdown",
   "metadata": {},
   "source": [
    "#### 5.1. Imputer Strategy "
   ]
  },
  {
   "cell_type": "markdown",
   "metadata": {},
   "source": [
    "We can apply SimpleImputer with Strategy of the most frequent value on categorical columns and use KNNImputer on numerical"
   ]
  },
  {
   "cell_type": "code",
   "execution_count": 33,
   "metadata": {},
   "outputs": [
    {
     "name": "stdout",
     "output_type": "stream",
     "text": [
      "Accuracy: 0.691 (0.045)\n"
     ]
    }
   ],
   "source": [
    "\n",
    "ordinal_enc_scaler = Pipeline(\n",
    "    [   # categorical, ordinal\n",
    "        ('imputer', SimpleImputer(strategy='most_frequent')),\n",
    "        ('OrdinalEncoder', OrdinalEncoder()),\n",
    "        ('MinMaxScaler', MinMaxScaler())\n",
    "    ]\n",
    ")\n",
    "\n",
    "\n",
    "onehot_enc_imputer = Pipeline(\n",
    "    [ # categorical, nominal\n",
    "        ('imputer', SimpleImputer(strategy='most_frequent')),\n",
    "        ('OneHotEnc', OneHotEncoder(drop='first', sparse=False))\n",
    "    ]\n",
    ")\n",
    "\n",
    "# numerical\n",
    "remainder = Pipeline(\n",
    "    [\n",
    "        ('imputer', KNNImputer()),\n",
    "        ('MinMaxScaler', MinMaxScaler())\n",
    "    ]\n",
    ")\n",
    "\n",
    "\n",
    "preprocessing = ColumnTransformer(\n",
    "    [   \n",
    "        ('OneHotEnc', onehot_enc_imputer, ['Occupation', 'Region']),\n",
    "        ('ordinal_enc_scaler', ordinal_enc_scaler, ['Commute Distance', 'Marital Status', 'Gender', 'Home Owner'])\n",
    "    ],\n",
    "    remainder = remainder\n",
    ")\n",
    "\n",
    "pipeline = Pipeline(\n",
    "    [\n",
    "        ('preprocessing', preprocessing),\n",
    "        ('RFE', RFE(estimator=RandomForestClassifier(random_state=1), n_features_to_select=0.75)),\n",
    "        ('model', RandomForestClassifier(random_state=1))\n",
    "    ]\n",
    "    \n",
    ")\n",
    "evaluate(pipeline, df[feature_cols], df[label_col])"
   ]
  },
  {
   "cell_type": "markdown",
   "metadata": {},
   "source": [
    "In the beginning we mentioned the possibility of excluding the \"Education\" column initially and revisiting its inclusion later. Let's now try incorporating it into our analysis."
   ]
  },
  {
   "cell_type": "code",
   "execution_count": 34,
   "metadata": {},
   "outputs": [
    {
     "name": "stderr",
     "output_type": "stream",
     "text": [
      "c:\\Users\\elinf\\anaconda3\\envs\\uni\\lib\\site-packages\\sklearn\\preprocessing\\_label.py:114: DataConversionWarning: A column-vector y was passed when a 1d array was expected. Please change the shape of y to (n_samples, ), for example using ravel().\n",
      "  y = column_or_1d(y, warn=True)\n"
     ]
    }
   ],
   "source": [
    "df = pd.read_csv('./TRABAJO/datasets/bykes/bike_buyers.csv', na_values='?')\n",
    "to_delete = ['ID']\n",
    "df.drop(to_delete, inplace=True, axis=1)\n",
    "dups = df.duplicated()\n",
    "df.duplicated().sum()\n",
    "df.drop_duplicates(inplace=True)\n",
    "df.reset_index(drop=True, inplace=True)\n",
    "label_encoder = LabelEncoder()\n",
    "df['Purchased Bike'] = label_encoder.fit_transform(df[label_col])\n",
    "\n",
    "sorted_cols = df.columns\n",
    "# getting all the numeric columns\n",
    "numeric_cols = df.select_dtypes(include=['float64']).columns\n",
    "\n",
    "# getting all the categorical columns\n",
    "categorical_cols = df.select_dtypes(include=['object']).columns\n",
    "# categorical_cols.delete(-1)\n",
    "feature_cols = df.columns[:-1]\n",
    "\n",
    "# getting the label column\n",
    "label_col = ['Purchased Bike']"
   ]
  },
  {
   "cell_type": "code",
   "execution_count": 35,
   "metadata": {},
   "outputs": [
    {
     "name": "stdout",
     "output_type": "stream",
     "text": [
      "Accuracy: 0.701 (0.048)\n"
     ]
    }
   ],
   "source": [
    "ordinal_enc_scaler = Pipeline(\n",
    "    [\n",
    "        ('imputer', SimpleImputer(strategy='most_frequent')),\n",
    "        ('OrdinalEncoder', OrdinalEncoder()),\n",
    "        ('MinMaxScaler', MinMaxScaler())\n",
    "    ]\n",
    ")\n",
    "\n",
    "onehot_enc_imputer = Pipeline(\n",
    "    [\n",
    "        ('imputer', SimpleImputer(strategy='most_frequent')),\n",
    "        ('OneHotEnc', OneHotEncoder(drop='first', sparse=False))\n",
    "    ]\n",
    ")\n",
    "\n",
    "remainder = Pipeline(\n",
    "    [\n",
    "        ('imputer', KNNImputer()),\n",
    "        ('MinMaxScaler', MinMaxScaler())\n",
    "    ]\n",
    ")\n",
    "\n",
    "\n",
    "preprocessing = ColumnTransformer(\n",
    "    [   \n",
    "        ('OneHotEnc', onehot_enc_imputer, ['Occupation', 'Region', 'Education']),\n",
    "        ('ordinal_enc_scaler', ordinal_enc_scaler, ['Commute Distance', 'Marital Status', 'Gender', 'Home Owner'])\n",
    "    ],\n",
    "    remainder = remainder\n",
    ")\n",
    "\n",
    "pipeline = Pipeline(\n",
    "    [\n",
    "\n",
    "        ('preprocessing', preprocessing),\n",
    "        ('RFE', RFE(estimator=RandomForestClassifier(random_state=1), n_features_to_select=0.75)),\n",
    "        ('model', RandomForestClassifier(random_state=1))\n",
    "    ]\n",
    "    \n",
    ")\n",
    "evaluate(pipeline, df[feature_cols], df[label_col])"
   ]
  },
  {
   "cell_type": "markdown",
   "metadata": {},
   "source": [
    "The accuracy was improved from the initial approximation 0.644 to 0.701 by 5.7%\n",
    "Further considerations could involve exploring alternative approaches, including:\n",
    "\n",
    "- Adjusting parameters of the KNN imputer\n",
    "- Exploring different imputation strategies\n",
    "- Evaluating alternative models\n",
    "- Experimenting with diverse techniques for feature selection\n",
    "\n",
    "Additionally, we can explore other techniques that align with the achieved results throughout the process."
   ]
  }
 ],
 "metadata": {
  "kernelspec": {
   "display_name": "Python 3 (ipykernel)",
   "language": "python",
   "name": "python3"
  },
  "language_info": {
   "codemirror_mode": {
    "name": "ipython",
    "version": 3
   },
   "file_extension": ".py",
   "mimetype": "text/x-python",
   "name": "python",
   "nbconvert_exporter": "python",
   "pygments_lexer": "ipython3",
   "version": "3.10.13"
  }
 },
 "nbformat": 4,
 "nbformat_minor": 2
}
